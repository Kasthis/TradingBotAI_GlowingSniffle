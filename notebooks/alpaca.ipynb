{
 "cells": [
  {
   "cell_type": "code",
   "execution_count": 1,
   "id": "8ea50629",
   "metadata": {},
   "outputs": [],
   "source": [
    "import alpaca_trade_api as tradeapi\n",
    "\n",
    "key = \"PKGHDEM3SP5EACLSW37S\"\n",
    "secret_key = \"7PVtNJU0o1N3IGoHKqLfp3IQ5rTlEgYpSW4BdMKE\"\n",
    "BASE_URL = \"https://paper-api.alpaca.markets/v2\"\n",
    "\n",
    "api = tradeapi.REST(key, secret_key, BASE_URL, api_version=\"v2\")"
   ]
  },
  {
   "cell_type": "code",
   "execution_count": null,
   "id": "a97f5b1b",
   "metadata": {},
   "outputs": [],
   "source": [
    "# Trying to build a basic request through alpaca\n",
    "def get_data(symbol):\n",
    "    try:\n",
    "        barset = api.get_latest_trade(symbol)\n",
    "        return {\"price\": barset.price}\n",
    "    except Exception as e:\n",
    "        return {\"price\": 1}"
   ]
  },
  {
   "cell_type": "code",
   "execution_count": null,
   "id": "ccec3e9d",
   "metadata": {},
   "outputs": [],
   "source": []
  }
 ],
 "metadata": {
  "kernelspec": {
   "display_name": ".venv",
   "language": "python",
   "name": "python3"
  },
  "language_info": {
   "codemirror_mode": {
    "name": "ipython",
    "version": 3
   },
   "file_extension": ".py",
   "mimetype": "text/x-python",
   "name": "python",
   "nbconvert_exporter": "python",
   "pygments_lexer": "ipython3",
   "version": "3.13.4"
  }
 },
 "nbformat": 4,
 "nbformat_minor": 5
}
