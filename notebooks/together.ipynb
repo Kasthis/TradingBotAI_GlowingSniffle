{
 "cells": [
  {
   "cell_type": "code",
   "execution_count": null,
   "id": "24e26a10",
   "metadata": {},
   "outputs": [],
   "source": [
    "from dotenv import load_dotenv # Make sure to pip install python-dotenv if you haven't already\n",
    "from together import Together\n",
    "import os  # You need to import the 'os' module to access environment variables\n",
    "\n",
    "# Load environment variables from the .env file in your workspace\n",
    "load_dotenv()\n",
    "\n",
    "\n",
    "api_key = os.environ.get(\"TOGETHER_API_KEY\")\n",
    "\n",
    "#if not api_key:\n",
    " #   raise ValueError(\"TOGETHER_API_KEY environment variable not set. Please set it in your terminal before running the notebook.\")\n",
    "\n",
    "client = Together(api_key=api_key)\n",
    "\n",
    "\"\"\"response = client.chat.completions.create(\n",
    "    model = \"meta-llama/Llama-Vision-Free\",\n",
    "    messages = [\n",
    "        {\n",
    "            \"role\": \"user\",\n",
    "            \"content\": \"Tell me the meaning of to strive\"\n",
    "        }\n",
    "    ]\n",
    ")\n",
    "print(response.choices[0].message.content)\"\"\""
   ]
  },
  {
   "cell_type": "code",
   "execution_count": null,
   "id": "cc0100a3",
   "metadata": {},
   "outputs": [],
   "source": [
    "def fetch_portfolio():\n",
    "\n",
    "def fetch_open_orders():\n",
    "    \n",
    "def analyze_message(message): \n",
    "    portfolio_data = fetch_portfolio() \n",
    "    open_orders = fetch_open_orders() \n",
    "    pre_prompt = f\"\"\" You are an AI Portfolio Manage responsible for analyzing my portfolio. \n",
    "    Your tasks are the following: \n",
    "    1.) Evaluate risk exposures of my current holdings \n",
    "    2.) Analyze my open limit orders and their potential impact \n",
    "    3.) provide insights into portfolio health, diversification, trade adj. etc. \n",
    "    4.) Speculate on the market outlook based on current market conditions \n",
    "    5.) Identify potential market risks and suggest risk management strategies \n",
    "    \n",
    "    Here is my portfolio: {portfolio_data}\n",
    "    \n",
    "    Here are my open_orders: {open_orders}\n",
    "    \n",
    "    Overall, answer the following question with priority having that background: {message}\n",
    "    \n",
    "    \"\"\"\n",
    "    \n",
    "    response = client.chat.completions.create(\n",
    "    model = \"meta-llama/Llama-Vision-Free\",\n",
    "    messages = [\n",
    "        {\n",
    "            \"role\": \"system\",\n",
    "            \"content\": pre_prompt\n",
    "        }\n",
    "    ]\n",
    ")\n",
    "\n",
    "analyze_message(\"how is my portfolio doing?\")\n",
    "\n"
   ]
  }
 ],
 "metadata": {
  "kernelspec": {
   "display_name": ".venv",
   "language": "python",
   "name": "python3"
  },
  "language_info": {
   "codemirror_mode": {
    "name": "ipython",
    "version": 3
   },
   "file_extension": ".py",
   "mimetype": "text/x-python",
   "name": "python",
   "nbconvert_exporter": "python",
   "pygments_lexer": "ipython3",
   "version": "3.13.4"
  }
 },
 "nbformat": 4,
 "nbformat_minor": 5
}
