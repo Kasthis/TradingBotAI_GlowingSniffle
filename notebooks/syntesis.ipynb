{
 "cells": [
  {
   "cell_type": "markdown",
   "id": "2c3047c6",
   "metadata": {},
   "source": [
    "HOW TO BUILD MY TRADING BOT BASED ON LLM \n",
    "\n",
    "HOW TO DO:\n",
    "\n",
    "1. Build a basic GUI\n",
    "2. Estabilish connection with Alpaca(API)\n",
    "- which equity we would like to trade.\n",
    "- estabilish our position size\n",
    "3. Develop a Strategy (Simple)\n",
    "- Risk Exposure\n",
    "- Technical standpoint focus    \n",
    "4. Integrate an LLM\n",
    "5. Deploy."
   ]
  }
 ],
 "metadata": {
  "language_info": {
   "name": "python"
  }
 },
 "nbformat": 4,
 "nbformat_minor": 5
}
